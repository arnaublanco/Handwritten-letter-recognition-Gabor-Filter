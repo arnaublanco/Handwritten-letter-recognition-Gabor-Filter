{
 "cells": [
  {
   "cell_type": "markdown",
   "metadata": {},
   "source": [
    "## Libraries"
   ]
  },
  {
   "cell_type": "code",
   "execution_count": 2,
   "metadata": {},
   "outputs": [],
   "source": [
    "import idx2numpy\n",
    "import joblib\n",
    "from sklearn.multiclass import OneVsOneClassifier\n",
    "import ipywidgets as widgets\n",
    "import matplotlib.pyplot as plt\n",
    "import numpy as np\n",
    "from skimage.filters import gabor\n",
    "from sklearn.decomposition import PCA"
   ]
  },
  {
   "cell_type": "markdown",
   "metadata": {},
   "source": [
    "## Import"
   ]
  },
  {
   "cell_type": "code",
   "execution_count": 3,
   "metadata": {},
   "outputs": [],
   "source": [
    "X = idx2numpy.convert_from_file(\"data/train-images-idx3-ubyte\") # Import handwritten letters\n",
    "\n",
    "model = joblib.load('data/model.cls') # Import SVM model\n",
    "pca = joblib.load('data/pca.cls') # Import PCA model"
   ]
  },
  {
   "cell_type": "markdown",
   "metadata": {},
   "source": [
    "## Testing model"
   ]
  },
  {
   "cell_type": "code",
   "execution_count": 136,
   "metadata": {},
   "outputs": [],
   "source": [
    "def computeFeatures(img):\n",
    "    curr = []\n",
    "    for freq in np.arange(1,11,2):\n",
    "        for orientation in range(0,360,45):\n",
    "            filt_real, filt_imag = gabor(img,frequency=freq,theta=orientation) # Compute Gabor Filter on image i for a given scale and orientation\n",
    "            phase = np.angle(filt_real + 1.0j*filt_imag) # Compute phase with real and complex part\n",
    "            curr = np.append(curr,phase.reshape([1,phase.size])) # Feature reduction\n",
    "            \n",
    "    features = pca.transform(curr.reshape([1,curr.size]))\n",
    "    return features"
   ]
  },
  {
   "cell_type": "code",
   "execution_count": 1,
   "metadata": {},
   "outputs": [],
   "source": [
    "def display_image(x):\n",
    "    \n",
    "    if x < 1 or x > X.shape[0]:\n",
    "        print('Index out of range')\n",
    "    else:\n",
    "        img = X[x-1,:,:] # Extract image\n",
    "        features = computeFeatures(img) # Extract features from image\n",
    "        prediction = model.predict(features) # Predict number\n",
    "\n",
    "        plt.imshow(img) # Plot image\n",
    "        plt.axis('off') # Do not show axis\n",
    "\n",
    "        plt.title('Prediction: ' + str(int(prediction[0]))) # Title with prediction"
   ]
  },
  {
   "cell_type": "code",
   "execution_count": 165,
   "metadata": {},
   "outputs": [
    {
     "name": "stdout",
     "output_type": "stream",
     "text": [
      "There are 60000 images available.\n"
     ]
    },
    {
     "data": {
      "application/vnd.jupyter.widget-view+json": {
       "model_id": "68ff551e8b634866a4bd8024314cdf0a",
       "version_major": 2,
       "version_minor": 0
      },
      "text/plain": [
       "interactive(children=(IntText(value=1, description='Image index:'), Output()), _dom_classes=('widget-interact'…"
      ]
     },
     "metadata": {},
     "output_type": "display_data"
    }
   ],
   "source": [
    "print('There are',X.shape[0],'images available.')\n",
    "w = widgets.interact(display_image, x = widgets.IntText(description='Image index:', min=1, max=X.shape[0], value=1))"
   ]
  }
 ],
 "metadata": {
  "kernelspec": {
   "display_name": "Python 3",
   "language": "python",
   "name": "python3"
  },
  "language_info": {
   "codemirror_mode": {
    "name": "ipython",
    "version": 3
   },
   "file_extension": ".py",
   "mimetype": "text/x-python",
   "name": "python",
   "nbconvert_exporter": "python",
   "pygments_lexer": "ipython3",
   "version": "3.9.1"
  }
 },
 "nbformat": 4,
 "nbformat_minor": 4
}
